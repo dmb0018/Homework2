{
  "nbformat": 4,
  "nbformat_minor": 0,
  "metadata": {
    "colab": {
      "provenance": [],
      "include_colab_link": true
    },
    "kernelspec": {
      "name": "python3",
      "display_name": "Python 3.9.5 64-bit"
    },
    "language_info": {
      "name": "python",
      "version": "3.9.5",
      "mimetype": "text/x-python",
      "codemirror_mode": {
        "name": "ipython",
        "version": 3
      },
      "pygments_lexer": "ipython3",
      "nbconvert_exporter": "python",
      "file_extension": ".py"
    },
    "interpreter": {
      "hash": "c98e05168fa63a48dbdd2a4274fef77cd63f6368d59e4488c10e2ff7243bb6c6"
    }
  },
  "cells": [
    {
      "cell_type": "markdown",
      "metadata": {
        "id": "view-in-github",
        "colab_type": "text"
      },
      "source": [
        "<a href=\"https://colab.research.google.com/github/dmb0018/Homework2/blob/main/DavidBryant_homework2.ipynb\" target=\"_parent\"><img src=\"https://colab.research.google.com/assets/colab-badge.svg\" alt=\"Open In Colab\"/></a>"
      ]
    },
    {
      "cell_type": "markdown",
      "source": [
        "\n",
        "1. Use for loop to generate 3 random integers between 100 and 999 which is divisible by 5. \n",
        "\n"
      ],
      "metadata": {
        "id": "nF0Ps19ADEAg"
      }
    },
    {
      "cell_type": "code",
      "execution_count": 4,
      "source": [
        "import random as rnd   \n",
        "values = range(3)  # Create array to go through for loop\n",
        "M = [1,1,1]  # Initialize array that will hold the 3 random integers\n",
        "\n",
        "for x in values:\n",
        "  M[x] = rnd.randrange(100,999,5) # Creates random values and assigns to array - ensures divisible by 5\n",
        "print(\"3 random integers between 100 and 999 which are divisible by 5 are as follows:\")\n",
        "print(M)\n"
      ],
      "outputs": [
        {
          "output_type": "stream",
          "name": "stdout",
          "text": [
            "3 random integers between 100 and 999 which are divisible by 5 are as follows:\n",
            "[465, 540, 865]\n"
          ]
        }
      ],
      "metadata": {
        "colab": {
          "base_uri": "https://localhost:8080/"
        },
        "id": "TioIKiMBDPGR",
        "outputId": "c5b2d295-0763-48ba-cae7-68a188fb9738"
      }
    },
    {
      "cell_type": "markdown",
      "source": [
        "2.The Logistic distribution is used in Extreme Value problems where it can act as a mixture of Gumbel distributions. Draw samples from a logistic distribution and plot it. loc=10, scale=1 and size =1000. "
      ],
      "metadata": {
        "id": "hyXLw2juDQBR"
      }
    },
    {
      "cell_type": "code",
      "execution_count": 5,
      "source": [
        "import numpy as nmp\n",
        "M = nmp.random.logistic(10,1, 1000) # Creates array with values\n",
        "\n",
        "import matplotlib.pyplot as plt\n",
        "plt.hist(M, bins = 50) # Plots the values in M into 50 bars\n"
      ],
      "outputs": [
        {
          "output_type": "execute_result",
          "data": {
            "text/plain": [
              "(array([ 2.,  0.,  1.,  2.,  0.,  1.,  6.,  1.,  5.,  4.,  9., 10., 14.,\n",
              "        18., 29., 21., 34., 37., 40., 56., 66., 69., 83., 54., 54., 60.,\n",
              "        50., 50., 37., 46., 42., 23., 23., 17.,  7.,  8.,  4.,  4.,  2.,\n",
              "         3.,  0.,  3.,  0.,  3.,  0.,  0.,  0.,  1.,  0.,  1.]),\n",
              " array([ 3.54239133,  3.82068963,  4.09898793,  4.37728623,  4.65558453,\n",
              "         4.93388283,  5.21218113,  5.49047943,  5.76877773,  6.04707603,\n",
              "         6.32537433,  6.60367263,  6.88197093,  7.16026923,  7.43856753,\n",
              "         7.71686583,  7.99516413,  8.27346243,  8.55176073,  8.83005903,\n",
              "         9.10835733,  9.38665563,  9.66495393,  9.94325223, 10.22155053,\n",
              "        10.49984883, 10.77814713, 11.05644543, 11.33474373, 11.61304203,\n",
              "        11.89134033, 12.16963863, 12.44793694, 12.72623524, 13.00453354,\n",
              "        13.28283184, 13.56113014, 13.83942844, 14.11772674, 14.39602504,\n",
              "        14.67432334, 14.95262164, 15.23091994, 15.50921824, 15.78751654,\n",
              "        16.06581484, 16.34411314, 16.62241144, 16.90070974, 17.17900804,\n",
              "        17.45730634]),\n",
              " <BarContainer object of 50 artists>)"
            ]
          },
          "metadata": {},
          "execution_count": 5
        },
        {
          "output_type": "display_data",
          "data": {
            "text/plain": [
              "<Figure size 640x480 with 1 Axes>"
            ],
            "image/png": "[encoded data removed]"
          },
          "metadata": {}
        }
      ],
      "metadata": {
        "colab": {
          "base_uri": "https://localhost:8080/",
          "height": 708
        },
        "id": "t2yhyP6RDXMI",
        "outputId": "81def650-1376-47bf-fcc8-d41cb45d2a70"
      }
    },
    {
      "cell_type": "markdown",
      "source": [
        "3.\tGenerate 6 digit random secure OTP."
      ],
      "metadata": {
        "id": "0jAtQnvcFn1g"
      }
    },
    {
      "cell_type": "code",
      "execution_count": 6,
      "source": [
        "import random as rnd\n",
        "values = range(6) # Counter for the for loop  \n",
        "M = [1,1,1,1,1,1] # Initialize array that will hold random values\n",
        "S = ''  # Initialize the string that will be used to display random values\n",
        "\n",
        "for x in values:\n",
        "  M[x] = rnd.randint(0,9) # Generates random values\n",
        "  S = S + str(M[x]) # adds them to string to be displayed\n",
        "\n",
        "# Display results\n",
        "print(\"Generating 6 digit random OTP\")\n",
        "print(\"Secure random OTP is:\", S)"
      ],
      "outputs": [
        {
          "output_type": "stream",
          "name": "stdout",
          "text": [
            "Generating 6 digit random OTP\n",
            "Secure random OTP is: 203153\n"
          ]
        }
      ],
      "metadata": {
        "colab": {
          "base_uri": "https://localhost:8080/"
        },
        "id": "8pnAxvQyGLN7",
        "outputId": "bdfdd3c4-dc1f-4f5d-d2f1-844af6a02844"
      }
    },
    {
      "cell_type": "markdown",
      "source": [
        "4.\tPick a random character from a given string such as \"Simulation and modeling\""
      ],
      "metadata": {
        "id": "sRajmF4JGc9C"
      }
    },
    {
      "cell_type": "code",
      "execution_count": 63,
      "source": [
        "import random as rnd\n",
        "\n",
        "S = \"Simulation and modeling\" # Store string to take random character from\n",
        "randomChar1 = rnd.choice(S) # Choose random character from string\n",
        "print(\"Random char is:\", randomChar1) # Display random character \n",
        "\n",
        "normalize_spaces = \"\".join(S.split()) # Remove spaces that can be chosen from choice\n",
        "randomChar2 = rnd.choice(normalize_spaces) # Choose random character from new string\n",
        "print(\"If blank spaces aren't meant to be an option for the random character, then a random char is:\", randomChar2 ) #Display character without blank being an option"
      ],
      "outputs": [
        {
          "output_type": "stream",
          "name": "stdout",
          "text": [
            "Random char is: i\n",
            "If blank spaces aren't meant to be an option for the random character, then a random char is: t\n"
          ]
        }
      ],
      "metadata": {
        "colab": {
          "base_uri": "https://localhost:8080/"
        },
        "id": "7dquFCrHGeGx",
        "outputId": "6cc550eb-1ae2-4cce-b5c0-a78ceaf664b6"
      }
    },
    {
      "cell_type": "markdown",
      "source": [
        "5. Import string and random module. Generate a string with 5 characters with UPPER case and lower case letters only. No numbers and a special symbol."
      ],
      "metadata": {
        "id": "LWo72SxJGxOd"
      }
    },
    {
      "cell_type": "code",
      "execution_count": 71,
      "source": [
        "import string\n",
        "import random as rnd\n",
        "\n",
        "i = range(5) # Counter for loop\n",
        "S = '' #Empty string to add letters to\n",
        "\n",
        "for x in i:\n",
        "  S += rnd.choice(string.ascii_letters) # Creates a string with random upper case and lower case letters\n",
        "\n",
        "print(\"Random string is:\", S)\n"
      ],
      "outputs": [
        {
          "output_type": "stream",
          "name": "stdout",
          "text": [
            "Random string is: CWTox\n"
          ]
        }
      ],
      "metadata": {
        "colab": {
          "base_uri": "https://localhost:8080/"
        },
        "id": "rf1xMCM8HPhw",
        "outputId": "b63c7dba-d7ea-4e66-de4f-cb3050b17340"
      }
    },
    {
      "cell_type": "markdown",
      "source": [
        "6. Import string and random module. Generate a Password with length 10 which contains 2 upper case letters, 1 digit, and 1 special symbol. "
      ],
      "metadata": {
        "id": "7yXtRN6WHYiu"
      }
    },
    {
      "cell_type": "code",
      "execution_count": 111,
      "source": [
        "import string\n",
        "import random as rnd\n",
        "\n",
        "rnd.seed()\n",
        "i = range(10) # Counter for Loop\n",
        "S = ''#Empty string to add characters to\n",
        "i_array = [0,1,2,3]       #integers used to pick lowercase, uppercase, digits, special\n",
        "counter_array = [0,0,0,0] # Lowercase, uppercase, digits, special\n",
        "desired_array = [6,2,1,1] # Lowercase, uppercase, digits, special\n",
        " \n",
        "# Counters for each character type\n",
        "lowercaseCounter = 0\n",
        "uppercaseCounter = 0\n",
        "digitsCounter = 0\n",
        "specialCounter = 0\n",
        "\n",
        "# Desired number of each character within the password\n",
        "lowercaseValue = 6\n",
        "uppercaseValue = 2\n",
        "digitsValue = 1\n",
        "specialValue = 1\n",
        "\n",
        "for x in i:\n",
        "  pick = rnd.choice(i_array)\n",
        "  j = 0 # Counter for while loop that won't be incremented to ensure a character that is needed is found\n",
        "  while j<1000: # Ensure stays in loop until the program picks a value for a character that is still needed\n",
        "    if counter_array[pick] == desired_array[pick]:\n",
        "      pick = rnd.choice(i_array)\n",
        "    else:\n",
        "      break # Breaks from the loop once a character that is still needed is found\n",
        "\n",
        "  counter_array[pick] += 1  \n",
        "\n",
        "  if pick == 0:\n",
        "    S += rnd.choice(string.ascii_lowercase) # Picks lowercase letter as part of password if 0 is chosen\n",
        "  elif pick == 1:\n",
        "    S += rnd.choice(string.ascii_uppercase) # Picks uppercase letter as part of password if 1 is chosen\n",
        "  elif pick == 2:\n",
        "    S += rnd.choice(string.digits) # Picks digit as part of password if 2 is chosen\n",
        "  else:\n",
        "    S += rnd.choice(string.punctuation) # Picks special character as part of password if 3 is chosen\n",
        "\n",
        "\n",
        "print(\"Password is\", S)"
      ],
      "outputs": [
        {
          "output_type": "stream",
          "name": "stdout",
          "text": [
            "Password is n;w7IYwpyd\n"
          ]
        }
      ],
      "metadata": {
        "colab": {
          "base_uri": "https://localhost:8080/"
        },
        "id": "-3L50bqjHsKO",
        "outputId": "0bc8abb8-21f0-463f-9a5a-8219b510c00c"
      }
    },
    {
      "cell_type": "markdown",
      "source": [
        "7. First generate evenly spaced values within 0 to 9. Give it new shape 3x3. Then randomly permute it."
      ],
      "metadata": {
        "id": "b5m0Kv-aIONE"
      }
    },
    {
      "cell_type": "code",
      "execution_count": 84,
      "source": [
        "import numpy as nmp\n",
        "rnd.seed()\n",
        "arrayM = nmp.linspace(0,8,9, dtype=int)  # Create evenely spaced values within 0 and 9\n",
        "arrayM.shape = (3,3) # Reshape to 3x3\n",
        "\n",
        "print(nmp.random.permutation(arrayM)) # Print randomly permuted array"
      ],
      "outputs": [
        {
          "output_type": "stream",
          "name": "stdout",
          "text": [
            "[[6 7 8]\n",
            " [0 1 2]\n",
            " [3 4 5]]\n"
          ]
        }
      ],
      "metadata": {
        "colab": {
          "base_uri": "https://localhost:8080/"
        },
        "id": "lA-_-8aNIYWZ",
        "outputId": "dcabd357-405c-41f1-f85f-00960a8a44f8"
      }
    },
    {
      "cell_type": "markdown",
      "source": [
        "8. Generate random secure token of 64 bytes and random URL"
      ],
      "metadata": {
        "id": "A_qKoz0cJs56"
      }
    },
    {
      "cell_type": "code",
      "execution_count": 87,
      "source": [
        "import random as rnd\n",
        "import secrets\n",
        "\n",
        "randomHex = secrets.token_hex(64) # Function creates random secure hexadecimal token for 64 bytes\n",
        "print(\"Random secure Hexadecimal token is  \", randomHex) # Display hexadecimal token\n",
        "\n",
        "randomURL = secrets.token_urlsafe(64) # Function creates URL  \n",
        "print(\"Random secure URL is \", randomURL) # Displays URL"
      ],
      "outputs": [
        {
          "output_type": "stream",
          "name": "stdout",
          "text": [
            "Random secure Hexadecimal token is   acba56590a25ea9df6b9757331c527b4fba5d0954ceed0f797ed2dc0e1c9fddb40a5c9304008f1151658257afcaee45d9b92c1303e15b41c956dcdf9206ca262\n",
            "Random secure URL is  aMWIlmTqybOuUxVq-XG6hQtrJA-Uy0QaS2xrbBlcNQT6sRqlfBczDofidn2rfQmH29XjiK0y3_7nRslZ0QoNng\n"
          ]
        }
      ],
      "metadata": {
        "colab": {
          "base_uri": "https://localhost:8080/"
        },
        "id": "i5Yl9imaKULT",
        "outputId": "94917a8f-c2eb-40ed-cb9b-3b1db2ba609c"
      }
    },
    {
      "cell_type": "markdown",
      "source": [
        "9. Pick a random number from 1 to 6. Do it in such a way that every time you must get the same random output number(no hard coding numbers). do this 5 times."
      ],
      "metadata": {
        "id": "BbqxqvkAKoco"
      }
    },
    {
      "cell_type": "code",
      "execution_count": 103,
      "source": [
        "import random as rnd\n",
        "rnd.seed() # Create seed for random variables\n",
        "intOptions =  [1,2,3,4,5,6] # Integers available to be picked by the choice function later on\n",
        "currentState = rnd.getstate() # Gets the internal state of the random number generator\n",
        "i = range(5) # Counter for the for loop\n",
        "print(\"Randomly selecting same number for a roll of a dice\") # Display as part of answer\n",
        "\n",
        "# For loop to go through and \"Randomly\" pick the integers\n",
        "for x in i:\n",
        "  randomNumber = rnd.choice(intOptions)  # Assign random choice of intOptions to a variable\n",
        "  rnd.setstate(currentState)   # Return state of random number generator to the previous state when getstate() was called\n",
        "  print(randomNumber) # Display results"
      ],
      "outputs": [
        {
          "output_type": "stream",
          "name": "stdout",
          "text": [
            "Randomly selecting same number for a roll of a dice\n",
            "3\n",
            "3\n",
            "3\n",
            "3\n",
            "3\n"
          ]
        }
      ],
      "metadata": {
        "colab": {
          "base_uri": "https://localhost:8080/"
        },
        "id": "GLkxztDWK0ZE",
        "outputId": "ca946335-1661-47b5-ca46-069b2a6c64cf"
      }
    },
    {
      "cell_type": "markdown",
      "source": [
        "10. Write an interactive Python program to play a “guess the  number” game. The computer should think of a random integer between  1 and 20 and the user (player) has to try to guess the number within six  attempts. The program should let the player know if the guess is too high or  too low. \n"
      ],
      "metadata": {
        "id": "nKU3_whrK193"
      }
    },
    {
      "cell_type": "code",
      "execution_count": 107,
      "source": [
        "import random as rnd\n",
        "name = input(\"Hello! What is your name? \") # Ask use for name\n",
        "print(\"Welcome,\", name, \"! I am thinking of an integer between 1 and 20.\") # Print rules of game\n",
        "\n",
        "randomNumber = rnd.randint(1,20) # Pick random number between 1 and 20\n",
        "i = range(6) # Range for the for loop due to allowable chances\n",
        "\n",
        "for x in i:\n",
        "  guess = input(\"Take a guess and type the integer. \") # Ask for guess of the number\n",
        "  guessInt = int(guess) # Store guess\n",
        "  if guessInt == randomNumber: # Determine if guess is correct\n",
        "    print(\"Well done,\", name, \"! You guessed my number in\",x+1,\"guesses!\") # Display correct results\n",
        "    break\n",
        "  if guessInt!=randomNumber and x ==5: # If guess is not correct and it was sixth attempt\n",
        "    print(\"I'm sorry,\", name,\". You did not guess my number in 6 guesses. :(\") # Display loss\n",
        "    break\n",
        "  if guessInt > randomNumber: # If guess is too high\n",
        "    print(\"Your guess is too high.\") # Display too high\n",
        "  else: # If guess is too low\n",
        "    print(\"Your guess is too low.\") # Display too low2"
      ],
      "outputs": [
        {
          "output_type": "stream",
          "name": "stdout",
          "text": [
            "Hello! What is your name? Bob\n",
            "Welcome, Bob ! I am thinking of an integer between 1 and 20.\n",
            "Take a guess and type the integer. 10\n",
            "Your guess is too low.\n",
            "Take a guess and type the integer. 15\n",
            "Your guess is too high.\n",
            "Take a guess and type the integer. 13\n",
            "Well done, Bob ! You guessed my number in 3 guesses!\n"
          ]
        }
      ],
      "metadata": {
        "colab": {
          "base_uri": "https://localhost:8080/"
        },
        "id": "ZcGQDFpSNX6r",
        "outputId": "2cefb6c0-2e2d-4796-81ef-6731010838d1"
      }
    }
  ]
}